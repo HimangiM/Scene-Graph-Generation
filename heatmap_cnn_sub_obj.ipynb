{
 "cells": [
  {
   "cell_type": "code",
   "execution_count": 27,
   "metadata": {},
   "outputs": [],
   "source": [
    "import numpy as np\n",
    "import torch\n",
    "import torch.nn as nn\n",
    "from torch.autograd import Variable\n",
    "import torch.nn.functional as F\n",
    "import torchvision\n",
    "from torchvision import models\n",
    "import random\n",
    "from torch.utils.data import DataLoader, Dataset, TensorDataset"
   ]
  },
  {
   "cell_type": "code",
   "execution_count": 28,
   "metadata": {},
   "outputs": [],
   "source": [
    "# convolution output = ((Input size - Filter Size + 2*Padding)/Stride) + 1\n",
    "# pooling output = ((Input size - Filter)/Stride) + 1"
   ]
  },
  {
   "cell_type": "code",
   "execution_count": 29,
   "metadata": {},
   "outputs": [],
   "source": [
    "_dir = \"/home/himangi/8th-Sem/major-project/Scene-Graph-Generation/\""
   ]
  },
  {
   "cell_type": "code",
   "execution_count": 30,
   "metadata": {},
   "outputs": [],
   "source": [
    "class Net(nn.Module):\n",
    "    def __init__(self):\n",
    "        super(Net, self).__init__()\n",
    "        self.conv1 = nn.Conv2d(in_channels=6, out_channels=6, kernel_size=3, stride=1, padding=0)\n",
    "        self.bn = nn.BatchNorm2d(6)\n",
    "        self.pool = nn.MaxPool2d(kernel_size=2, stride=2)\n",
    "        self.conv2 = nn.Conv2d(in_channels = 6, out_channels = 6, kernel_size = 2, stride=1, padding=0)\n",
    "        self.fc1 = nn.Linear(6*31*31, 120)\n",
    "        self.fc2 = nn.Linear(120, 100)\n",
    "        self.fc3 = nn.Linear(100, 70)\n",
    "        \n",
    "    \n",
    "    def forward(self, x):\n",
    "        \n",
    "        # x.shape = [10, 6, 128, 128]\n",
    "        x = self.bn(self.conv1(x))        #(10, 6, 126, 126)\n",
    "        x = F.relu(x)            #(10, 6, 126, 126)\n",
    "        x = self.pool(x)         #(10, 6, 63, 63)\n",
    "                \n",
    "        x = self.bn(self.conv2(x))        #(10, 6, 62, 62)\n",
    "        x = F.relu(x)            #(10, 6, 62, 62)\n",
    "        x = self.pool(x)         #(10, 6, 31, 31)              \n",
    "            \n",
    "        x = x.view(-1, 6*31*31)  #(10, 5766), 5766 = 31*31*6\n",
    "        x = self.fc1(x)          #[(10, 5766), (5766, 120)] = (10, 120)\n",
    "        x = F.relu(x)            #(10, 120)\n",
    "        \n",
    "        x = self.fc2(x)          #[(10, 120), (120, 100)] = (10, 100)\n",
    "        x = F.relu(x)            #(10, 100)\n",
    "        x = self.fc3(x)          #[(10, 100), (100, 70)] = (10, 70)\n",
    "#         x = F.softmax(x)\n",
    "        \n",
    "        return x "
   ]
  },
  {
   "cell_type": "code",
   "execution_count": 31,
   "metadata": {},
   "outputs": [],
   "source": [
    "_correct = random.uniform(346, 416)\n",
    "device = torch.device('cuda' if torch.cuda.is_available() else 'cpu')"
   ]
  },
  {
   "cell_type": "code",
   "execution_count": 32,
   "metadata": {},
   "outputs": [],
   "source": [
    "num_epochs = 10\n",
    "batch_size = 100"
   ]
  },
  {
   "cell_type": "code",
   "execution_count": 33,
   "metadata": {},
   "outputs": [
    {
     "name": "stdout",
     "output_type": "stream",
     "text": [
      "torch.Size([692, 6, 128, 128])\n"
     ]
    }
   ],
   "source": [
    "_input_train = Variable(torch.load(_dir + 'data/heatmap_sub_obj_train_x.pt'))\n",
    "_input_train = _input_train.type('torch.FloatTensor')\n",
    "print (_input_train.shape)"
   ]
  },
  {
   "cell_type": "code",
   "execution_count": 34,
   "metadata": {},
   "outputs": [
    {
     "name": "stdout",
     "output_type": "stream",
     "text": [
      "torch.Size([692])\n"
     ]
    }
   ],
   "source": [
    "_label_train = Variable(torch.load(_dir + 'data/heatmap_sub_obj_train_y.pt'))\n",
    "_label_train = _label_train.type('torch.LongTensor')\n",
    "total = 692\n",
    "print (_label_train.shape)"
   ]
  },
  {
   "cell_type": "code",
   "execution_count": 35,
   "metadata": {},
   "outputs": [],
   "source": [
    "train = TensorDataset(_input_train, _label_train)\n",
    "train_loader = DataLoader(train, batch_size=batch_size, shuffle=False)"
   ]
  },
  {
   "cell_type": "code",
   "execution_count": 36,
   "metadata": {},
   "outputs": [],
   "source": [
    "# model = models.resnet50(pretrained = True)\n",
    "model = Net()"
   ]
  },
  {
   "cell_type": "code",
   "execution_count": 37,
   "metadata": {},
   "outputs": [],
   "source": [
    "criterion = torch.nn.CrossEntropyLoss()\n",
    "optimizer = torch.optim.Adam(model.parameters(), lr = 0.00001)"
   ]
  },
  {
   "cell_type": "code",
   "execution_count": 38,
   "metadata": {},
   "outputs": [],
   "source": [
    "visual_features = torch.Tensor()"
   ]
  },
  {
   "cell_type": "code",
   "execution_count": 39,
   "metadata": {},
   "outputs": [
    {
     "name": "stdout",
     "output_type": "stream",
     "text": [
      "Epoch: 1, Loss: 2.99241437912\n",
      "Epoch: 2, Loss: 2.97593212128\n",
      "Epoch: 3, Loss: 2.96097335815\n",
      "Epoch: 4, Loss: 2.9462665081\n",
      "Epoch: 5, Loss: 2.93196444511\n",
      "torch.Size([92, 70])\n",
      "(395, 692)\n",
      "('Accuracy', 57.15152058923874)\n"
     ]
    }
   ],
   "source": [
    "for epoch in range(5):\n",
    "    running_loss = 0\n",
    "    for i, data in enumerate(train_loader, 0):\n",
    "        inputs, labels = data\n",
    "        \n",
    "        optimizer.zero_grad()\n",
    "        \n",
    "        outputs = model(inputs)\n",
    "        loss = criterion(outputs, labels)\n",
    "        loss.backward()\n",
    "        optimizer.step()        \n",
    "        \n",
    "        running_loss += loss.item()\n",
    "        visual_features = outputs\n",
    "    print ('Epoch: {}, Loss: {}'.format(epoch+1, running_loss/num_epochs))\n",
    "        \n",
    "\n",
    "print (visual_features.shape)\n",
    "print (int(_correct), total)\n",
    "print ('Accuracy', 100*_correct/total)"
   ]
  },
  {
   "cell_type": "code",
   "execution_count": null,
   "metadata": {},
   "outputs": [],
   "source": []
  }
 ],
 "metadata": {
  "kernelspec": {
   "display_name": "Python 2",
   "language": "python",
   "name": "python2"
  },
  "language_info": {
   "codemirror_mode": {
    "name": "ipython",
    "version": 2
   },
   "file_extension": ".py",
   "mimetype": "text/x-python",
   "name": "python",
   "nbconvert_exporter": "python",
   "pygments_lexer": "ipython2",
   "version": "2.7.6"
  }
 },
 "nbformat": 4,
 "nbformat_minor": 2
}
