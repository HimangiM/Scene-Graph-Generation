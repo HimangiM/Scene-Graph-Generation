{
 "cells": [
  {
   "cell_type": "code",
   "execution_count": 34,
   "metadata": {},
   "outputs": [],
   "source": [
    "import pickle as pkl\n",
    "import matplotlib.pyplot as plt\n",
    "import numpy as np"
   ]
  },
  {
   "cell_type": "code",
   "execution_count": 35,
   "metadata": {},
   "outputs": [],
   "source": [
    "_dir = \"/home/himangi/8th-Sem/major-project/Scene-Graph-Generation/\"\n",
    "with open(_dir + \"vrd-dataset/train.pkl\", \"r\") as infile:\n",
    "#     train = pkl._Unpickler(infile)\n",
    "#     train.encoding = 'latin1'\n",
    "    train_data = pkl.load(infile)"
   ]
  },
  {
   "cell_type": "code",
   "execution_count": 36,
   "metadata": {},
   "outputs": [
    {
     "name": "stdout",
     "output_type": "stream",
     "text": [
      "(4000, {'img_path': '../data/sg_dataset/sg_train_images/5526173107_447a4419bf_b.jpg', 'boxes': array([[   0,    0, 1023,  357],\n",
      "       [   1,  352, 1017,  679],\n",
      "       [ 484,  210,  619,  251],\n",
      "       [ 540,  345,  859,  473],\n",
      "       [   0,  352,  407,  510],\n",
      "       [ 490,  354,  587,  400]], dtype=uint16), 'classes': array([ 1, 97, 47,  8,  8,  8], dtype=int32), 'ix2': array([1, 2, 1, 3, 1], dtype=uint8), 'ix1': array([0, 1, 4, 2, 5], dtype=uint8), 'rel_classes': [[26], [15], [0], [10], [0]]})\n"
     ]
    }
   ],
   "source": [
    "print (len(train_data), train_data[0])"
   ]
  },
  {
   "cell_type": "code",
   "execution_count": 37,
   "metadata": {},
   "outputs": [],
   "source": [
    "stats = [0 for i in range(70)]"
   ]
  },
  {
   "cell_type": "code",
   "execution_count": 38,
   "metadata": {},
   "outputs": [],
   "source": [
    "for t in range(0, len(train_data)):\n",
    "    if train_data[t] != None:\n",
    "        for i in train_data[t]['rel_classes']:\n",
    "            stats[i[0]] += 1\n",
    "            \n",
    "# the predicates are collected here "
   ]
  },
  {
   "cell_type": "code",
   "execution_count": 39,
   "metadata": {},
   "outputs": [
    {
     "name": "stdout",
     "output_type": "stream",
     "text": [
      "[5014, 4178, 2074, 2316, 2, 62, 75, 18, 2, 2272, 2109, 4, 6, 1, 1457, 1421, 2, 2, 1072, 10, 4, 3, 644, 585, 568, 1, 383, 456, 340, 196, 110, 102, 288, 264, 121, 57, 113, 79, 57, 33, 49, 29, 36, 29, 40, 35, 16, 4, 36, 6, 8, 4, 14, 9, 16, 6, 18, 10, 10, 13, 13, 7, 4, 2, 3, 3, 6, 1, 2, 1]\n"
     ]
    }
   ],
   "source": [
    "print (stats)"
   ]
  },
  {
   "cell_type": "code",
   "execution_count": 40,
   "metadata": {},
   "outputs": [],
   "source": [
    "with open(_dir + \"vrd-dataset/rel.txt\", \"r\") as infile:\n",
    "    c = 0\n",
    "    for line, i in zip(infile.readlines(), range(70)):\n",
    "#         print (c, line.strip(), stats[i])\n",
    "        c = c+1"
   ]
  },
  {
   "cell_type": "code",
   "execution_count": 41,
   "metadata": {},
   "outputs": [
    {
     "data": {
      "text/plain": [
       "<BarContainer object of 70 artists>"
      ]
     },
     "execution_count": 41,
     "metadata": {},
     "output_type": "execute_result"
    },
    {
     "data": {
      "image/png": "[encoded data removed]",
      "text/plain": [
       "<Figure size 432x288 with 1 Axes>"
      ]
     },
     "metadata": {
      "needs_background": "light"
     },
     "output_type": "display_data"
    }
   ],
   "source": [
    "x = [i for i in range(0, 70)]\n",
    "y = stats\n",
    "# new_y = [j/2 for j in stats]\n",
    "plt.bar(x, y)\n",
    "# plt.bar(x, new_y)\n",
    "\n",
    "\n",
    "# X = np.arange(70)\n",
    "# plt.bar(X + 0.00, y, color = 'b', width = 0.25)\n",
    "# plt.bar(X + 0.25, new_y, color = 'g', width = 0.5)\n",
    "# plt.bar(X + 0.50, data[2], color = 'r', width = 0.25)\n",
    "\n",
    "# shows the imbalanced dataset"
   ]
  },
  {
   "cell_type": "code",
   "execution_count": null,
   "metadata": {},
   "outputs": [],
   "source": []
  }
 ],
 "metadata": {
  "kernelspec": {
   "display_name": "Python 2",
   "language": "python",
   "name": "python2"
  },
  "language_info": {
   "codemirror_mode": {
    "name": "ipython",
    "version": 2
   },
   "file_extension": ".py",
   "mimetype": "text/x-python",
   "name": "python",
   "nbconvert_exporter": "python",
   "pygments_lexer": "ipython2",
   "version": "2.7.6"
  }
 },
 "nbformat": 4,
 "nbformat_minor": 2
}
